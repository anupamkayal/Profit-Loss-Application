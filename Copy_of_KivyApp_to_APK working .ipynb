{
  "cells": [
    {
      "cell_type": "markdown",
      "metadata": {
        "id": "view-in-github",
        "colab_type": "text"
      },
      "source": [
        "<a href=\"https://colab.research.google.com/github/anupamkayal/Profit-Loss-Application/blob/main/Copy_of_KivyApp_to_APK%20working%20.ipynb\" target=\"_parent\"><img src=\"https://colab.research.google.com/assets/colab-badge.svg\" alt=\"Open In Colab\"/></a>"
      ]
    },
    {
      "cell_type": "code",
      "execution_count": null,
      "metadata": {
        "id": "Yzg0jnV7dHTp"
      },
      "outputs": [],
      "source": [
        "!pip install buildozer"
      ]
    },
    {
      "cell_type": "code",
      "execution_count": null,
      "metadata": {
        "id": "XX3isEFydNar"
      },
      "outputs": [],
      "source": [
        "a!aip install Cython==0.29.34"
      ]
    },
    {
      "cell_type": "code",
      "execution_count": null,
      "metadata": {
        "id": "QZRYW9UvdcDt"
      },
      "outputs": [],
      "source": [
        "!sudo apt-get install -y \\\n",
        "    python3-pip \\\n",
        "    build-essential \\\n",
        "    git \\\n",
        "    python3 \\\n",
        "    python3-dev \\\n",
        "    ffmpeg \\\n",
        "    libsdl2-dev \\\n",
        "    libsdl2-image-dev \\\n",
        "    libsdl2-mixer-dev \\\n",
        "    libsdl2-ttf-dev \\\n",
        "    libportmidi-dev \\\n",
        "    libswscale-dev \\\n",
        "    libavformat-dev \\\n",
        "    libavcodec-dev \\\n",
        "    zlib1g-dev"
      ]
    },
    {
      "cell_type": "code",
      "execution_count": null,
      "metadata": {
        "colab": {
          "base_uri": "https://localhost:8080/"
        },
        "id": "S9Z7KfTOnXuZ",
        "outputId": "186bfe27-fb3b-4570-d787-0b6055c1a5f2"
      },
      "outputs": [
        {
          "output_type": "stream",
          "name": "stdout",
          "text": [
            "Reading package lists... Done\n",
            "Building dependency tree       \n",
            "Reading state information... Done\n",
            "Note, selecting 'libgstreamer1.0-dev' for regex 'libgstreamer1.0'\n",
            "Note, selecting 'libgstreamer1.0-0-dbg' for regex 'libgstreamer1.0'\n",
            "Note, selecting 'libgstreamer1.0-0' for regex 'libgstreamer1.0'\n",
            "libgstreamer1.0-0 is already the newest version (1.16.3-0ubuntu1.1).\n",
            "libgstreamer1.0-0 set to manually installed.\n",
            "The following additional packages will be installed:\n",
            "  autopoint debhelper dh-autoreconf dh-strip-nondeterminism dwz gettext\n",
            "  gettext-base gir1.2-gstreamer-1.0 gstreamer1.0-x intltool-debian libaa1\n",
            "  libarchive-cpio-perl libarchive-zip-perl libblkid-dev libcdparanoia0\n",
            "  libcroco3 libdebhelper-perl libdv4 libffi-dev\n",
            "  libfile-stripnondeterminism-perl libglib2.0-dev libglib2.0-dev-bin\n",
            "  libgstreamer-plugins-good1.0-0 libmail-sendmail-perl libmount-dev\n",
            "  libselinux1-dev libsepol1-dev libshout3 libsub-override-perl\n",
            "  libsys-hostname-long-perl libtag1v5 libtag1v5-vanilla libtool libv4l-0\n",
            "  libv4lconvert0 libvisual-0.4-0 po-debconf\n",
            "Suggested packages:\n",
            "  dh-make gettext-doc libasprintf-dev libgettextpo-dev gvfs libdv-bin\n",
            "  oss-compat libgirepository1.0-dev libglib2.0-doc libgdk-pixbuf2.0-bin\n",
            "  | libgdk-pixbuf2.0-dev libxml2-utils gstreamer1.0-doc libtool-doc gcj-jdk\n",
            "  libvisual-0.4-plugins libmail-box-perl\n",
            "The following NEW packages will be installed:\n",
            "  autopoint debhelper dh-autoreconf dh-strip-nondeterminism dwz gettext\n",
            "  gettext-base gir1.2-gstreamer-1.0 gstreamer1.0-plugins-base\n",
            "  gstreamer1.0-plugins-good gstreamer1.0-x intltool-debian libaa1\n",
            "  libarchive-cpio-perl libarchive-zip-perl libblkid-dev libcdparanoia0\n",
            "  libcroco3 libdebhelper-perl libdv4 libffi-dev\n",
            "  libfile-stripnondeterminism-perl libglib2.0-dev libglib2.0-dev-bin\n",
            "  libgstreamer-plugins-good1.0-0 libgstreamer1.0-0-dbg libgstreamer1.0-dev\n",
            "  libmail-sendmail-perl libmount-dev libselinux1-dev libsepol1-dev libshout3\n",
            "  libsub-override-perl libsys-hostname-long-perl libtag1v5 libtag1v5-vanilla\n",
            "  libtool libv4l-0 libv4lconvert0 libvisual-0.4-0 po-debconf\n",
            "0 upgraded, 41 newly installed, 0 to remove and 24 not upgraded.\n",
            "Need to get 12.7 MB of archives.\n",
            "After this operation, 51.0 MB of additional disk space will be used.\n",
            "Get:1 http://archive.ubuntu.com/ubuntu focal/main amd64 gettext-base amd64 0.19.8.1-10build1 [50.2 kB]\n",
            "Get:2 http://archive.ubuntu.com/ubuntu focal/main amd64 autopoint all 0.19.8.1-10build1 [412 kB]\n",
            "Get:3 http://archive.ubuntu.com/ubuntu focal/main amd64 libtool all 2.4.6-14 [161 kB]\n",
            "Get:4 http://archive.ubuntu.com/ubuntu focal/main amd64 dh-autoreconf all 19 [16.1 kB]\n",
            "Get:5 http://archive.ubuntu.com/ubuntu focal/main amd64 libdebhelper-perl all 12.10ubuntu1 [62.1 kB]\n",
            "Get:6 http://archive.ubuntu.com/ubuntu focal/main amd64 libarchive-zip-perl all 1.67-2 [90.5 kB]\n",
            "Get:7 http://archive.ubuntu.com/ubuntu focal/main amd64 libsub-override-perl all 0.09-2 [9,532 B]\n",
            "Get:8 http://archive.ubuntu.com/ubuntu focal/main amd64 libfile-stripnondeterminism-perl all 1.7.0-1 [15.9 kB]\n",
            "Get:9 http://archive.ubuntu.com/ubuntu focal/main amd64 dh-strip-nondeterminism all 1.7.0-1 [5,228 B]\n",
            "Get:10 http://archive.ubuntu.com/ubuntu focal/main amd64 dwz amd64 0.13-5 [151 kB]\n",
            "Get:11 http://archive.ubuntu.com/ubuntu focal/main amd64 libcroco3 amd64 0.6.13-1 [82.5 kB]\n",
            "Get:12 http://archive.ubuntu.com/ubuntu focal/main amd64 gettext amd64 0.19.8.1-10build1 [895 kB]\n",
            "Get:13 http://archive.ubuntu.com/ubuntu focal/main amd64 intltool-debian all 0.35.0+20060710.5 [24.9 kB]\n",
            "Get:14 http://archive.ubuntu.com/ubuntu focal/main amd64 po-debconf all 1.0.21 [233 kB]\n",
            "Get:15 http://archive.ubuntu.com/ubuntu focal/main amd64 debhelper all 12.10ubuntu1 [877 kB]\n",
            "Get:16 http://archive.ubuntu.com/ubuntu focal-updates/main amd64 gir1.2-gstreamer-1.0 amd64 1.16.3-0ubuntu1.1 [72.2 kB]\n",
            "Get:17 http://archive.ubuntu.com/ubuntu focal/main amd64 libcdparanoia0 amd64 3.10.2+debian-13 [46.7 kB]\n",
            "Get:18 http://archive.ubuntu.com/ubuntu focal/main amd64 libvisual-0.4-0 amd64 0.4.0-17 [99.8 kB]\n",
            "Get:19 http://archive.ubuntu.com/ubuntu focal-updates/main amd64 gstreamer1.0-plugins-base amd64 1.16.3-0ubuntu1.1 [620 kB]\n",
            "Get:20 http://archive.ubuntu.com/ubuntu focal/main amd64 libaa1 amd64 1.4p5-46 [47.3 kB]\n",
            "Get:21 http://archive.ubuntu.com/ubuntu focal/main amd64 libdv4 amd64 1.0.0-12 [58.0 kB]\n",
            "Get:22 http://archive.ubuntu.com/ubuntu focal-updates/main amd64 libgstreamer-plugins-good1.0-0 amd64 1.16.3-0ubuntu1.1 [68.7 kB]\n",
            "Get:23 http://archive.ubuntu.com/ubuntu focal/main amd64 libshout3 amd64 2.4.3-1 [50.6 kB]\n",
            "Get:24 http://archive.ubuntu.com/ubuntu focal/main amd64 libtag1v5-vanilla amd64 1.11.1+dfsg.1-0.3ubuntu2 [280 kB]\n",
            "Get:25 http://archive.ubuntu.com/ubuntu focal/main amd64 libtag1v5 amd64 1.11.1+dfsg.1-0.3ubuntu2 [11.0 kB]\n",
            "Get:26 http://archive.ubuntu.com/ubuntu focal/main amd64 libv4lconvert0 amd64 1.18.0-2build1 [76.5 kB]\n",
            "Get:27 http://archive.ubuntu.com/ubuntu focal/main amd64 libv4l-0 amd64 1.18.0-2build1 [41.9 kB]\n",
            "Get:28 http://archive.ubuntu.com/ubuntu focal-updates/main amd64 gstreamer1.0-plugins-good amd64 1.16.3-0ubuntu1.1 [1,745 kB]\n",
            "Get:29 http://archive.ubuntu.com/ubuntu focal-updates/main amd64 gstreamer1.0-x amd64 1.16.3-0ubuntu1.1 [74.7 kB]\n",
            "Get:30 http://archive.ubuntu.com/ubuntu focal/main amd64 libarchive-cpio-perl all 0.10-1 [9,644 B]\n",
            "Get:31 http://archive.ubuntu.com/ubuntu focal/main amd64 libffi-dev amd64 3.3-4 [57.0 kB]\n",
            "Get:32 http://archive.ubuntu.com/ubuntu focal-updates/main amd64 libglib2.0-dev-bin amd64 2.64.6-1~ubuntu20.04.4 [109 kB]\n",
            "Get:33 http://archive.ubuntu.com/ubuntu focal-updates/main amd64 libblkid-dev amd64 2.34-0.1ubuntu9.3 [167 kB]\n",
            "Get:34 http://archive.ubuntu.com/ubuntu focal-updates/main amd64 libmount-dev amd64 2.34-0.1ubuntu9.3 [176 kB]\n",
            "Get:35 http://archive.ubuntu.com/ubuntu focal-updates/main amd64 libsepol1-dev amd64 3.0-1ubuntu0.1 [325 kB]\n",
            "Get:36 http://archive.ubuntu.com/ubuntu focal/main amd64 libselinux1-dev amd64 3.0-1build2 [151 kB]\n",
            "Get:37 http://archive.ubuntu.com/ubuntu focal-updates/main amd64 libglib2.0-dev amd64 2.64.6-1~ubuntu20.04.4 [1,506 kB]\n",
            "Get:38 http://archive.ubuntu.com/ubuntu focal-updates/main amd64 libgstreamer1.0-dev amd64 1.16.3-0ubuntu1.1 [484 kB]\n",
            "Get:39 http://archive.ubuntu.com/ubuntu focal/main amd64 libsys-hostname-long-perl all 1.5-1 [11.7 kB]\n",
            "Get:40 http://archive.ubuntu.com/ubuntu focal/main amd64 libmail-sendmail-perl all 0.80-1 [22.6 kB]\n",
            "Get:41 http://archive.ubuntu.com/ubuntu focal-updates/main amd64 libgstreamer1.0-0-dbg amd64 1.16.3-0ubuntu1.1 [3,346 kB]\n",
            "Fetched 12.7 MB in 4s (3,463 kB/s)\n",
            "debconf: unable to initialize frontend: Dialog\n",
            "debconf: (No usable dialog-like program is installed, so the dialog based frontend cannot be used. at /usr/share/perl5/Debconf/FrontEnd/Dialog.pm line 76, <> line 41.)\n",
            "debconf: falling back to frontend: Readline\n",
            "debconf: unable to initialize frontend: Readline\n",
            "debconf: (This frontend requires a controlling tty.)\n",
            "debconf: falling back to frontend: Teletype\n",
            "dpkg-preconfigure: unable to re-open stdin: \n",
            "Selecting previously unselected package gettext-base.\n",
            "(Reading database ... 122349 files and directories currently installed.)\n",
            "Preparing to unpack .../00-gettext-base_0.19.8.1-10build1_amd64.deb ...\n",
            "Unpacking gettext-base (0.19.8.1-10build1) ...\n",
            "Selecting previously unselected package autopoint.\n",
            "Preparing to unpack .../01-autopoint_0.19.8.1-10build1_all.deb ...\n",
            "Unpacking autopoint (0.19.8.1-10build1) ...\n",
            "Selecting previously unselected package libtool.\n",
            "Preparing to unpack .../02-libtool_2.4.6-14_all.deb ...\n",
            "Unpacking libtool (2.4.6-14) ...\n",
            "Selecting previously unselected package dh-autoreconf.\n",
            "Preparing to unpack .../03-dh-autoreconf_19_all.deb ...\n",
            "Unpacking dh-autoreconf (19) ...\n",
            "Selecting previously unselected package libdebhelper-perl.\n",
            "Preparing to unpack .../04-libdebhelper-perl_12.10ubuntu1_all.deb ...\n",
            "Unpacking libdebhelper-perl (12.10ubuntu1) ...\n",
            "Selecting previously unselected package libarchive-zip-perl.\n",
            "Preparing to unpack .../05-libarchive-zip-perl_1.67-2_all.deb ...\n",
            "Unpacking libarchive-zip-perl (1.67-2) ...\n",
            "Selecting previously unselected package libsub-override-perl.\n",
            "Preparing to unpack .../06-libsub-override-perl_0.09-2_all.deb ...\n",
            "Unpacking libsub-override-perl (0.09-2) ...\n",
            "Selecting previously unselected package libfile-stripnondeterminism-perl.\n",
            "Preparing to unpack .../07-libfile-stripnondeterminism-perl_1.7.0-1_all.deb ...\n",
            "Unpacking libfile-stripnondeterminism-perl (1.7.0-1) ...\n",
            "Selecting previously unselected package dh-strip-nondeterminism.\n",
            "Preparing to unpack .../08-dh-strip-nondeterminism_1.7.0-1_all.deb ...\n",
            "Unpacking dh-strip-nondeterminism (1.7.0-1) ...\n",
            "Selecting previously unselected package dwz.\n",
            "Preparing to unpack .../09-dwz_0.13-5_amd64.deb ...\n",
            "Unpacking dwz (0.13-5) ...\n",
            "Selecting previously unselected package libcroco3:amd64.\n",
            "Preparing to unpack .../10-libcroco3_0.6.13-1_amd64.deb ...\n",
            "Unpacking libcroco3:amd64 (0.6.13-1) ...\n",
            "Selecting previously unselected package gettext.\n",
            "Preparing to unpack .../11-gettext_0.19.8.1-10build1_amd64.deb ...\n",
            "Unpacking gettext (0.19.8.1-10build1) ...\n",
            "Selecting previously unselected package intltool-debian.\n",
            "Preparing to unpack .../12-intltool-debian_0.35.0+20060710.5_all.deb ...\n",
            "Unpacking intltool-debian (0.35.0+20060710.5) ...\n",
            "Selecting previously unselected package po-debconf.\n",
            "Preparing to unpack .../13-po-debconf_1.0.21_all.deb ...\n",
            "Unpacking po-debconf (1.0.21) ...\n",
            "Selecting previously unselected package debhelper.\n",
            "Preparing to unpack .../14-debhelper_12.10ubuntu1_all.deb ...\n",
            "Unpacking debhelper (12.10ubuntu1) ...\n",
            "Selecting previously unselected package gir1.2-gstreamer-1.0:amd64.\n",
            "Preparing to unpack .../15-gir1.2-gstreamer-1.0_1.16.3-0ubuntu1.1_amd64.deb ...\n",
            "Unpacking gir1.2-gstreamer-1.0:amd64 (1.16.3-0ubuntu1.1) ...\n",
            "Selecting previously unselected package libcdparanoia0:amd64.\n",
            "Preparing to unpack .../16-libcdparanoia0_3.10.2+debian-13_amd64.deb ...\n",
            "Unpacking libcdparanoia0:amd64 (3.10.2+debian-13) ...\n",
            "Selecting previously unselected package libvisual-0.4-0:amd64.\n",
            "Preparing to unpack .../17-libvisual-0.4-0_0.4.0-17_amd64.deb ...\n",
            "Unpacking libvisual-0.4-0:amd64 (0.4.0-17) ...\n",
            "Selecting previously unselected package gstreamer1.0-plugins-base:amd64.\n",
            "Preparing to unpack .../18-gstreamer1.0-plugins-base_1.16.3-0ubuntu1.1_amd64.deb ...\n",
            "Unpacking gstreamer1.0-plugins-base:amd64 (1.16.3-0ubuntu1.1) ...\n",
            "Selecting previously unselected package libaa1:amd64.\n",
            "Preparing to unpack .../19-libaa1_1.4p5-46_amd64.deb ...\n",
            "Unpacking libaa1:amd64 (1.4p5-46) ...\n",
            "Selecting previously unselected package libdv4:amd64.\n",
            "Preparing to unpack .../20-libdv4_1.0.0-12_amd64.deb ...\n",
            "Unpacking libdv4:amd64 (1.0.0-12) ...\n",
            "Selecting previously unselected package libgstreamer-plugins-good1.0-0:amd64.\n",
            "Preparing to unpack .../21-libgstreamer-plugins-good1.0-0_1.16.3-0ubuntu1.1_amd64.deb ...\n",
            "Unpacking libgstreamer-plugins-good1.0-0:amd64 (1.16.3-0ubuntu1.1) ...\n",
            "Selecting previously unselected package libshout3:amd64.\n",
            "Preparing to unpack .../22-libshout3_2.4.3-1_amd64.deb ...\n",
            "Unpacking libshout3:amd64 (2.4.3-1) ...\n",
            "Selecting previously unselected package libtag1v5-vanilla:amd64.\n",
            "Preparing to unpack .../23-libtag1v5-vanilla_1.11.1+dfsg.1-0.3ubuntu2_amd64.deb ...\n",
            "Unpacking libtag1v5-vanilla:amd64 (1.11.1+dfsg.1-0.3ubuntu2) ...\n",
            "Selecting previously unselected package libtag1v5:amd64.\n",
            "Preparing to unpack .../24-libtag1v5_1.11.1+dfsg.1-0.3ubuntu2_amd64.deb ...\n",
            "Unpacking libtag1v5:amd64 (1.11.1+dfsg.1-0.3ubuntu2) ...\n",
            "Selecting previously unselected package libv4lconvert0:amd64.\n",
            "Preparing to unpack .../25-libv4lconvert0_1.18.0-2build1_amd64.deb ...\n",
            "Unpacking libv4lconvert0:amd64 (1.18.0-2build1) ...\n",
            "Selecting previously unselected package libv4l-0:amd64.\n",
            "Preparing to unpack .../26-libv4l-0_1.18.0-2build1_amd64.deb ...\n",
            "Unpacking libv4l-0:amd64 (1.18.0-2build1) ...\n",
            "Selecting previously unselected package gstreamer1.0-plugins-good:amd64.\n",
            "Preparing to unpack .../27-gstreamer1.0-plugins-good_1.16.3-0ubuntu1.1_amd64.deb ...\n",
            "Unpacking gstreamer1.0-plugins-good:amd64 (1.16.3-0ubuntu1.1) ...\n",
            "Selecting previously unselected package gstreamer1.0-x:amd64.\n",
            "Preparing to unpack .../28-gstreamer1.0-x_1.16.3-0ubuntu1.1_amd64.deb ...\n",
            "Unpacking gstreamer1.0-x:amd64 (1.16.3-0ubuntu1.1) ...\n",
            "Selecting previously unselected package libarchive-cpio-perl.\n",
            "Preparing to unpack .../29-libarchive-cpio-perl_0.10-1_all.deb ...\n",
            "Unpacking libarchive-cpio-perl (0.10-1) ...\n",
            "Selecting previously unselected package libffi-dev:amd64.\n",
            "Preparing to unpack .../30-libffi-dev_3.3-4_amd64.deb ...\n",
            "Unpacking libffi-dev:amd64 (3.3-4) ...\n",
            "Selecting previously unselected package libglib2.0-dev-bin.\n",
            "Preparing to unpack .../31-libglib2.0-dev-bin_2.64.6-1~ubuntu20.04.4_amd64.deb ...\n",
            "Unpacking libglib2.0-dev-bin (2.64.6-1~ubuntu20.04.4) ...\n",
            "Selecting previously unselected package libblkid-dev:amd64.\n",
            "Preparing to unpack .../32-libblkid-dev_2.34-0.1ubuntu9.3_amd64.deb ...\n",
            "Unpacking libblkid-dev:amd64 (2.34-0.1ubuntu9.3) ...\n",
            "Selecting previously unselected package libmount-dev:amd64.\n",
            "Preparing to unpack .../33-libmount-dev_2.34-0.1ubuntu9.3_amd64.deb ...\n",
            "Unpacking libmount-dev:amd64 (2.34-0.1ubuntu9.3) ...\n",
            "Selecting previously unselected package libsepol1-dev:amd64.\n",
            "Preparing to unpack .../34-libsepol1-dev_3.0-1ubuntu0.1_amd64.deb ...\n",
            "Unpacking libsepol1-dev:amd64 (3.0-1ubuntu0.1) ...\n",
            "Selecting previously unselected package libselinux1-dev:amd64.\n",
            "Preparing to unpack .../35-libselinux1-dev_3.0-1build2_amd64.deb ...\n",
            "Unpacking libselinux1-dev:amd64 (3.0-1build2) ...\n",
            "Selecting previously unselected package libglib2.0-dev:amd64.\n",
            "Preparing to unpack .../36-libglib2.0-dev_2.64.6-1~ubuntu20.04.4_amd64.deb ...\n",
            "Unpacking libglib2.0-dev:amd64 (2.64.6-1~ubuntu20.04.4) ...\n",
            "Selecting previously unselected package libgstreamer1.0-dev:amd64.\n",
            "Preparing to unpack .../37-libgstreamer1.0-dev_1.16.3-0ubuntu1.1_amd64.deb ...\n",
            "Adding 'diversion of /usr/bin/dh_gstscancodecs to /usr/bin/dh_gstscancodecs-gst0.10 by libgstreamer1.0-dev'\n",
            "Adding 'diversion of /usr/share/man/man1/dh_gstscancodecs.1.gz to /usr/share/man/man1/dh_gstscancodecs.1.gz-gst0.10 by libgstreamer1.0-dev'\n",
            "Unpacking libgstreamer1.0-dev:amd64 (1.16.3-0ubuntu1.1) ...\n",
            "Selecting previously unselected package libsys-hostname-long-perl.\n",
            "Preparing to unpack .../38-libsys-hostname-long-perl_1.5-1_all.deb ...\n",
            "Unpacking libsys-hostname-long-perl (1.5-1) ...\n",
            "Selecting previously unselected package libmail-sendmail-perl.\n",
            "Preparing to unpack .../39-libmail-sendmail-perl_0.80-1_all.deb ...\n",
            "Unpacking libmail-sendmail-perl (0.80-1) ...\n",
            "Selecting previously unselected package libgstreamer1.0-0-dbg:amd64.\n",
            "Preparing to unpack .../40-libgstreamer1.0-0-dbg_1.16.3-0ubuntu1.1_amd64.deb ...\n",
            "Unpacking libgstreamer1.0-0-dbg:amd64 (1.16.3-0ubuntu1.1) ...\n",
            "Setting up libglib2.0-dev-bin (2.64.6-1~ubuntu20.04.4) ...\n",
            "Setting up libblkid-dev:amd64 (2.34-0.1ubuntu9.3) ...\n",
            "Setting up libcdparanoia0:amd64 (3.10.2+debian-13) ...\n",
            "Setting up gir1.2-gstreamer-1.0:amd64 (1.16.3-0ubuntu1.1) ...\n",
            "Setting up libtag1v5-vanilla:amd64 (1.11.1+dfsg.1-0.3ubuntu2) ...\n",
            "Setting up gstreamer1.0-x:amd64 (1.16.3-0ubuntu1.1) ...\n",
            "Setting up libtool (2.4.6-14) ...\n",
            "Setting up libvisual-0.4-0:amd64 (0.4.0-17) ...\n",
            "Setting up libarchive-zip-perl (1.67-2) ...\n",
            "Setting up libdebhelper-perl (12.10ubuntu1) ...\n",
            "Setting up libsepol1-dev:amd64 (3.0-1ubuntu0.1) ...\n",
            "Setting up gettext-base (0.19.8.1-10build1) ...\n",
            "Setting up libffi-dev:amd64 (3.3-4) ...\n",
            "Setting up libgstreamer-plugins-good1.0-0:amd64 (1.16.3-0ubuntu1.1) ...\n",
            "Setting up gstreamer1.0-plugins-base:amd64 (1.16.3-0ubuntu1.1) ...\n",
            "Setting up libshout3:amd64 (2.4.3-1) ...\n",
            "Setting up autopoint (0.19.8.1-10build1) ...\n",
            "Setting up libcroco3:amd64 (0.6.13-1) ...\n",
            "Setting up dwz (0.13-5) ...\n",
            "Setting up libtag1v5:amd64 (1.11.1+dfsg.1-0.3ubuntu2) ...\n",
            "Setting up libdv4:amd64 (1.0.0-12) ...\n",
            "Setting up libarchive-cpio-perl (0.10-1) ...\n",
            "Setting up libv4lconvert0:amd64 (1.18.0-2build1) ...\n",
            "Setting up libsub-override-perl (0.09-2) ...\n",
            "Setting up libsys-hostname-long-perl (1.5-1) ...\n",
            "Setting up libmount-dev:amd64 (2.34-0.1ubuntu9.3) ...\n",
            "Setting up libgstreamer1.0-0-dbg:amd64 (1.16.3-0ubuntu1.1) ...\n",
            "Setting up libaa1:amd64 (1.4p5-46) ...\n",
            "Setting up libfile-stripnondeterminism-perl (1.7.0-1) ...\n",
            "Setting up gettext (0.19.8.1-10build1) ...\n",
            "Setting up libselinux1-dev:amd64 (3.0-1build2) ...\n",
            "Setting up intltool-debian (0.35.0+20060710.5) ...\n",
            "Setting up libv4l-0:amd64 (1.18.0-2build1) ...\n",
            "Setting up libmail-sendmail-perl (0.80-1) ...\n",
            "Setting up libglib2.0-dev:amd64 (2.64.6-1~ubuntu20.04.4) ...\n",
            "Setting up dh-strip-nondeterminism (1.7.0-1) ...\n",
            "Setting up gstreamer1.0-plugins-good:amd64 (1.16.3-0ubuntu1.1) ...\n",
            "Setting up po-debconf (1.0.21) ...\n",
            "Setting up dh-autoreconf (19) ...\n",
            "Setting up debhelper (12.10ubuntu1) ...\n",
            "Processing triggers for man-db (2.9.1-1) ...\n",
            "Processing triggers for libglib2.0-0:amd64 (2.64.6-1~ubuntu20.04.4) ...\n",
            "Processing triggers for libc-bin (2.31-0ubuntu9.9) ...\n",
            "Setting up libgstreamer1.0-dev:amd64 (1.16.3-0ubuntu1.1) ...\n"
          ]
        }
      ],
      "source": [
        "!sudo apt-get install -y \\\n",
        "    libgstreamer1.0 \\\n",
        "    gstreamer1.0-plugins-base \\\n",
        "    gstreamer1.0-plugins-good"
      ]
    },
    {
      "cell_type": "code",
      "execution_count": null,
      "metadata": {
        "id": "Gjp7v6bTnd5V"
      },
      "outputs": [],
      "source": [
        "!sudo apt-get install build-essential libsqlite3-dev sqlite3 bzip2 libbz2-dev zlib1g-dev libssl-dev openssl libgdbm-dev libgdbm-compat-dev liblzma-dev libreadline-dev libncursesw5-dev libffi-dev uuid-dev libffi6"
      ]
    },
    {
      "cell_type": "code",
      "execution_count": null,
      "metadata": {
        "id": "DA3BNyuKnrI1"
      },
      "outputs": [],
      "source": [
        "!sudo apt-get install libffi-dev"
      ]
    },
    {
      "cell_type": "code",
      "execution_count": null,
      "metadata": {
        "id": "DGR0f1m6m8cG"
      },
      "outputs": [],
      "source": [
        "!sudo apt update"
      ]
    },
    {
      "cell_type": "code",
      "execution_count": null,
      "metadata": {
        "id": "I_i6AIomnAnK"
      },
      "outputs": [],
      "source": [
        "!sudo apt install -y git zip unzip openjdk-17-jdk python3-pip autoconf libtool pkg-config zlib1g-dev libncurses5-dev libncursesw5-dev libtinfo5 cmake libffi-dev libssl-dev"
      ]
    },
    {
      "cell_type": "code",
      "execution_count": null,
      "metadata": {
        "id": "g7laoOBE8iRL"
      },
      "outputs": [],
      "source": [
        "!sudo apt-get install python3.8"
      ]
    },
    {
      "cell_type": "code",
      "execution_count": null,
      "metadata": {
        "id": "-wR_IBrD_sgA"
      },
      "outputs": [],
      "source": [
        "!buildozer init"
      ]
    },
    {
      "cell_type": "code",
      "execution_count": null,
      "metadata": {
        "id": "R-W3QNS9Owt8"
      },
      "outputs": [],
      "source": [
        "Not run without it convert the file\n",
        "!sudo apt-get install openjdk-17-jdk"
      ]
    },
    {
      "cell_type": "code",
      "execution_count": null,
      "metadata": {
        "id": "usnx_79tgNel"
      },
      "outputs": [],
      "source": [
        "\n",
        "#not needed\n",
        "!wget https://dl.google.com/android/repository/android-ndk-r14-linux-x86_64.zip\n",
        "!unzip android-ndk-r14-linux-x86_64.zip"
      ]
    },
    {
      "cell_type": "code",
      "execution_count": null,
      "metadata": {
        "id": "pCsI5vcXyQ-c"
      },
      "outputs": [],
      "source": [
        "#not needed\n",
        "!wget https://dl.google.com/android/repository/platform-29_r01.zip\n",
        "!unzip platform-29_r01.zip -d /content/\n",
        "!yes | /root/cmdline-tools/bin/sdkmanager --sdk_root=/root/ --licenses"
      ]
    },
    {
      "cell_type": "code",
      "execution_count": null,
      "metadata": {
        "id": "N0QHJIuq1Wtj"
      },
      "outputs": [],
      "source": [
        "\n",
        "#not needed\n",
        "!wget https://dl.google.com/android/repository/commandlinetools-linux-7302050_latest.zip\n",
        "!unzip commandlinetools-linux-7302050_latest.zip -d /root/"
      ]
    },
    {
      "cell_type": "code",
      "execution_count": null,
      "metadata": {
        "id": "tLbircO10N0a"
      },
      "outputs": [],
      "source": [
        "!buildozer -v android debug"
      ]
    },
    {
      "cell_type": "code",
      "execution_count": null,
      "metadata": {
        "id": "aQELzB3uUFCG"
      },
      "outputs": [],
      "source": [
        "!buildozer android clean"
      ]
    }
  ],
  "metadata": {
    "colab": {
      "provenance": [],
      "include_colab_link": true
    },
    "kernelspec": {
      "display_name": "Python 3",
      "name": "python3"
    }
  },
  "nbformat": 4,
  "nbformat_minor": 0
}